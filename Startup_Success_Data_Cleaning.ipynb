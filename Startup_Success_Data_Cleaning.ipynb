{
 "cells": [
  {
   "cell_type": "code",
   "execution_count": 1,
   "metadata": {},
   "outputs": [],
   "source": [
    "import pandas as pd\n",
    "import numpy as np\n",
    "import datetime as dt\n",
    "\n",
    "import seaborn as sns\n",
    "import matplotlib.pyplot as plt\n",
    "from pathlib import Path\n",
    "%matplotlib inline\n",
    "\n",
    "import pickle"
   ]
  },
  {
   "cell_type": "markdown",
   "metadata": {},
   "source": [
    "# Data cleaning "
   ]
  },
  {
   "cell_type": "code",
   "execution_count": 2,
   "metadata": {},
   "outputs": [
    {
     "data": {
      "text/plain": [
       "(66368, 14)"
      ]
     },
     "execution_count": 2,
     "metadata": {},
     "output_type": "execute_result"
    }
   ],
   "source": [
    "# Read the data and replace '-' with Nan\n",
    "companies = pd.read_csv('Data/Raw Data/companies.csv', na_values='-' )\n",
    "acquisitions = pd.read_csv('Data/Raw Data/acquisitions.csv')\n",
    "additions = pd.read_csv('Data/Raw Data/additions.csv')\n",
    "investments = pd.read_csv('Data/Raw Data/investments.csv')\n",
    "rounds = pd.read_csv('Data/Raw Data/rounds.csv')\n",
    "companies.shape"
   ]
  },
  {
   "cell_type": "code",
   "execution_count": 3,
   "metadata": {},
   "outputs": [
    {
     "data": {
      "text/html": [
       "<div>\n",
       "<style scoped>\n",
       "    .dataframe tbody tr th:only-of-type {\n",
       "        vertical-align: middle;\n",
       "    }\n",
       "\n",
       "    .dataframe tbody tr th {\n",
       "        vertical-align: top;\n",
       "    }\n",
       "\n",
       "    .dataframe thead th {\n",
       "        text-align: right;\n",
       "    }\n",
       "</style>\n",
       "<table border=\"1\" class=\"dataframe\">\n",
       "  <thead>\n",
       "    <tr style=\"text-align: right;\">\n",
       "      <th></th>\n",
       "      <th>permalink</th>\n",
       "      <th>name</th>\n",
       "      <th>homepage_url</th>\n",
       "      <th>category_list</th>\n",
       "      <th>funding_total_usd</th>\n",
       "      <th>status</th>\n",
       "      <th>country_code</th>\n",
       "      <th>state_code</th>\n",
       "      <th>region</th>\n",
       "      <th>city</th>\n",
       "      <th>funding_rounds</th>\n",
       "      <th>founded_at</th>\n",
       "      <th>first_funding_at</th>\n",
       "      <th>last_funding_at</th>\n",
       "    </tr>\n",
       "  </thead>\n",
       "  <tbody>\n",
       "    <tr>\n",
       "      <th>0</th>\n",
       "      <td>/organization/-fame</td>\n",
       "      <td>#fame</td>\n",
       "      <td>http://livfame.com</td>\n",
       "      <td>Media</td>\n",
       "      <td>10000000.0</td>\n",
       "      <td>operating</td>\n",
       "      <td>IND</td>\n",
       "      <td>16</td>\n",
       "      <td>Mumbai</td>\n",
       "      <td>Mumbai</td>\n",
       "      <td>1</td>\n",
       "      <td>NaN</td>\n",
       "      <td>2015-01-05</td>\n",
       "      <td>2015-01-05</td>\n",
       "    </tr>\n",
       "  </tbody>\n",
       "</table>\n",
       "</div>"
      ],
      "text/plain": [
       "             permalink   name        homepage_url category_list  \\\n",
       "0  /organization/-fame  #fame  http://livfame.com         Media   \n",
       "\n",
       "   funding_total_usd     status country_code state_code  region    city  \\\n",
       "0         10000000.0  operating          IND         16  Mumbai  Mumbai   \n",
       "\n",
       "   funding_rounds founded_at first_funding_at last_funding_at  \n",
       "0               1        NaN       2015-01-05      2015-01-05  "
      ]
     },
     "execution_count": 3,
     "metadata": {},
     "output_type": "execute_result"
    }
   ],
   "source": [
    "companies.head(1)"
   ]
  },
  {
   "cell_type": "markdown",
   "metadata": {},
   "source": [
    "Designing from Venture Capital point of view:\n",
    "\n",
    "- Only keep companies with at least one round of funding \n",
    "- Only keep records that have received funding: non-missing and non-zero values"
   ]
  },
  {
   "cell_type": "code",
   "execution_count": 4,
   "metadata": {},
   "outputs": [
    {
     "data": {
      "text/plain": [
       "(53583, 14)"
      ]
     },
     "execution_count": 4,
     "metadata": {},
     "output_type": "execute_result"
    }
   ],
   "source": [
    "# 1. Drop NaNs from 'funding_total_usd' and convert to integer \n",
    "companies.dropna(subset = ['funding_total_usd'], inplace=True)\n",
    "companies['funding_total_usd'] = companies['funding_total_usd'].astype(int)\n",
    "\n",
    "# 2. Filter the data as described above and store in 'target_companies'\n",
    "target_companies = companies[(companies['funding_rounds']>0) & \n",
    "                             (companies['funding_total_usd']>0)]\n",
    "target_companies.shape"
   ]
  },
  {
   "cell_type": "markdown",
   "metadata": {},
   "source": [
    "For more analysis and design, convert the dates columns to date type:\n"
   ]
  },
  {
   "cell_type": "code",
   "execution_count": 5,
   "metadata": {},
   "outputs": [
    {
     "data": {
      "text/plain": [
       "(53558, 14)"
      ]
     },
     "execution_count": 5,
     "metadata": {},
     "output_type": "execute_result"
    }
   ],
   "source": [
    "# 1. First delete the handful of NaN's and invalid dates\n",
    "target_companies.dropna(subset = ['first_funding_at', 'last_funding_at'], inplace=True)\n",
    "target_companies = target_companies[~target_companies['first_funding_at'].isin(['1532-06-26','1014-03-01'])]\n",
    "\n",
    "# 2. Convert to date type\n",
    "target_companies['first_funding_at'] = pd.to_datetime(target_companies['first_funding_at'])\n",
    "target_companies['last_funding_at'] = pd.to_datetime(target_companies['last_funding_at'])\n",
    "\n",
    "target_companies.shape"
   ]
  },
  {
   "cell_type": "markdown",
   "metadata": {},
   "source": [
    "Let's create new columns for year of first funing and last funding to do furthur analyis with them."
   ]
  },
  {
   "cell_type": "code",
   "execution_count": 6,
   "metadata": {},
   "outputs": [],
   "source": [
    "target_companies['first_funding_year'] = target_companies['first_funding_at'].dt.year\n",
    "target_companies['last_funding_year'] = target_companies['last_funding_at'].dt.year"
   ]
  },
  {
   "cell_type": "markdown",
   "metadata": {},
   "source": [
    "Let's also create a new column for time between funding rounds. "
   ]
  },
  {
   "cell_type": "code",
   "execution_count": 7,
   "metadata": {},
   "outputs": [],
   "source": [
    "target_companies['months_bw_fundings'] = (\n",
    "                 (target_companies['last_funding_year'] - target_companies['first_funding_year'])*12 +\n",
    "                 (target_companies['last_funding_at'].dt.month - target_companies['first_funding_at'].dt.month)) "
   ]
  },
  {
   "cell_type": "markdown",
   "metadata": {},
   "source": [
    "So far I have included companies that had at least one round of funding. Alternatively, I could filter only for companies that had at least 2 rounds of funding, but as shown below, more than 40% are many companies that were acquired or had an IPO and only received one year of funding. So, I will keep all companies that had only one round of finding."
   ]
  },
  {
   "cell_type": "code",
   "execution_count": 9,
   "metadata": {},
   "outputs": [
    {
     "data": {
      "text/plain": [
       "1    0.407384\n",
       "2    0.239807\n",
       "3    0.151204\n",
       "4    0.087801\n",
       "5    0.047030\n",
       "Name: funding_rounds, dtype: float64"
      ]
     },
     "execution_count": 9,
     "metadata": {},
     "output_type": "execute_result"
    }
   ],
   "source": [
    "target_companies[target_companies['status'].isin(['acquired', 'ipo'])]['funding_rounds'].value_counts(4).head(5)"
   ]
  },
  {
   "cell_type": "markdown",
   "metadata": {},
   "source": [
    "Need to define failure or success. Let's look at the status of the companies. "
   ]
  },
  {
   "cell_type": "code",
   "execution_count": 10,
   "metadata": {},
   "outputs": [
    {
     "data": {
      "text/plain": [
       "operating    42417\n",
       "closed        4911\n",
       "acquired      4789\n",
       "ipo           1441\n",
       "Name: status, dtype: int64"
      ]
     },
     "execution_count": 10,
     "metadata": {},
     "output_type": "execute_result"
    }
   ],
   "source": [
    "target_companies['status'].value_counts()"
   ]
  },
  {
   "cell_type": "markdown",
   "metadata": {},
   "source": [
    "'IPO' and 'acquired' can interpreted as success and 'closed' can interpreted as failure. \n",
    "\n",
    "Need to take a closer look at the operating companies to see if they can be identified as succeeded or failed. Let's look at the distribution of first and last funding year for the operating companies: "
   ]
  },
  {
   "cell_type": "code",
   "execution_count": 44,
   "metadata": {},
   "outputs": [
    {
     "data": {
      "image/png": "[encoded data removed]",
      "text/plain": [
       "<Figure size 936x288 with 2 Axes>"
      ]
     },
     "metadata": {},
     "output_type": "display_data"
    }
   ],
   "source": [
    "temp = target_companies[target_companies['status'] == 'operating']\n",
    "plt.figure(figsize=(13,4))\n",
    "\n",
    "plt.subplot(1,2,1)\n",
    "plt.hist(target_companies['first_funding_year'], bins = 50, color = 'lightcoral')\n",
    "plt.xlim(1990, 2015)\n",
    "plt.xlabel('Fist Funding Year')\n",
    "plt.ylabel('Count')\n",
    "\n",
    "plt.subplot(1,2,2)\n",
    "plt.hist(target_companies['last_funding_year'], bins = 150, color = 'tomato')\n",
    "plt.xlim(1990, 2015)\n",
    "plt.xlabel('Last Funding Year')\n",
    "plt.ylabel('Count');\n"
   ]
  },
  {
   "cell_type": "markdown",
   "metadata": {},
   "source": [
    "**Observations and desions points:**\n",
    "- Some companies that are in operating status have not been funded in the last five or ten years.\n",
    "- Many companies were funded for the first time only recently.\n",
    "- We can't really call companies that have not been funded recently but have been operating for a long time unsuccessful. Therefore, it makes more sense to exclude them from the analysis because they do not seem to need funding.\n",
    "- The companies that were founded recently, but have not received funding in the past 3 years, have not been very successful enough in attracting funding, so I will keep such companies in the data and will label them as failed. \n",
    "\n",
    "Note: Avg time between funding rounds for tech companies is 12 to 18 months:\n",
    "https://medium.com/journal-of-empirical-entrepreneurship/how-much-runway-should-you-target-between-financing-rounds-478b1616cfb5#:~:text=CBInsights%20estimates%20the%20median%20time,to%2D18%20month%20conventional%20wisdom."
   ]
  },
  {
   "cell_type": "code",
   "execution_count": 11,
   "metadata": {},
   "outputs": [
    {
     "data": {
      "text/plain": [
       "10354"
      ]
     },
     "execution_count": 11,
     "metadata": {},
     "output_type": "execute_result"
    }
   ],
   "source": [
    "# let's see how many companies were last funded before 2012\n",
    "len(target_companies[ (target_companies['status'] =='operating')  & (target_companies['last_funding_year'] < 2012)])"
   ]
  },
  {
   "cell_type": "code",
   "execution_count": 12,
   "metadata": {},
   "outputs": [
    {
     "data": {
      "text/plain": [
       "(closed       4911\n",
       " acquired     4789\n",
       " operating    4783\n",
       " ipo          1441\n",
       " Name: status, dtype: int64,\n",
       " 15924)"
      ]
     },
     "execution_count": 12,
     "metadata": {},
     "output_type": "execute_result"
    }
   ],
   "source": [
    "# Create a dataset of the companies that either 'failed' or'succeeded'.\n",
    "df = target_companies[(target_companies['status'].isin(['closed','acquired', 'ipo'])) | \n",
    "                      \n",
    "                      ((target_companies['status'] == 'operating') &\n",
    "                       (target_companies['first_funding_year'] < 2009) & \n",
    "                       (target_companies['last_funding_year'] < 2012) \n",
    "                      )]\n",
    "\n",
    "df['status'].value_counts(), len(df)"
   ]
  },
  {
   "cell_type": "markdown",
   "metadata": {},
   "source": [
    "Now let's create a Target column to label companies as:\n",
    "- **Succeeded**: if acquired or had an ipo\n",
    "- **Failed**: if we're closed or are operating (as discussed above)\n",
    "\n",
    "Assign 1 to the moniority calss and 0 to the majority class"
   ]
  },
  {
   "cell_type": "code",
   "execution_count": 13,
   "metadata": {},
   "outputs": [
    {
     "name": "stderr",
     "output_type": "stream",
     "text": [
      "<ipython-input-13-485acd6fecd7>:1: SettingWithCopyWarning: \n",
      "A value is trying to be set on a copy of a slice from a DataFrame.\n",
      "Try using .loc[row_indexer,col_indexer] = value instead\n",
      "\n",
      "See the caveats in the documentation: https://pandas.pydata.org/pandas-docs/stable/user_guide/indexing.html#returning-a-view-versus-a-copy\n",
      "  df['succeeded'] = df['status'].apply(lambda x: 1 if x in ['acquired', 'ipo'] else 0 )\n"
     ]
    },
    {
     "data": {
      "text/plain": [
       "0    9694\n",
       "1    6230\n",
       "Name: succeeded, dtype: int64"
      ]
     },
     "execution_count": 13,
     "metadata": {},
     "output_type": "execute_result"
    }
   ],
   "source": [
    "df['succeeded'] = df['status'].apply(lambda x: 1 if x in ['acquired', 'ipo'] else 0 )\n",
    "df['succeeded'].value_counts()"
   ]
  },
  {
   "cell_type": "markdown",
   "metadata": {},
   "source": [
    "So far we have identified the target companies and how they should be labeled. Now let's take a look at the outliers:"
   ]
  },
  {
   "cell_type": "code",
   "execution_count": 14,
   "metadata": {},
   "outputs": [
    {
     "data": {
      "image/png": "[encoded data removed]",
      "text/plain": [
       "<Figure size 720x432 with 3 Axes>"
      ]
     },
     "metadata": {
      "needs_background": "light"
     },
     "output_type": "display_data"
    }
   ],
   "source": [
    "plt.figure(figsize=(10,6))\n",
    "\n",
    "plt.subplot(3,1,1)\n",
    "plt.boxplot(df['months_bw_fundings'], patch_artist= True, vert= False)\n",
    "plt.ylabel('# Time between Fundings')\n",
    "\n",
    "\n",
    "plt.subplot(3,1,2)\n",
    "plt.boxplot(df['funding_total_usd'],patch_artist= True, vert= False)\n",
    "plt.ylabel('Total Funding ($)')\n",
    "\n",
    "plt.subplot(3,1,3)\n",
    "plt.boxplot(df['funding_rounds'],patch_artist= True, vert= False)\n",
    "plt.ylabel('Funding Rounds');"
   ]
  },
  {
   "cell_type": "markdown",
   "metadata": {},
   "source": [
    "There are too many outliers in the data, need to remove some of them. "
   ]
  },
  {
   "cell_type": "code",
   "execution_count": 15,
   "metadata": {},
   "outputs": [
    {
     "data": {
      "text/plain": [
       "10990"
      ]
     },
     "execution_count": 15,
     "metadata": {},
     "output_type": "execute_result"
    }
   ],
   "source": [
    "df = df[df['months_bw_fundings'] <250] # less than 150 months\n",
    "df = df[df['funding_total_usd'] <15000000] # less than 10M\n",
    "df = df[df['funding_rounds'] <8]\n",
    "len(df)"
   ]
  },
  {
   "cell_type": "markdown",
   "metadata": {},
   "source": [
    "This removed ~ 37 % of the data, but should improve the accuracy of the prediction."
   ]
  },
  {
   "cell_type": "code",
   "execution_count": 16,
   "metadata": {},
   "outputs": [],
   "source": [
    "# Furthure remove the outliers and pickle this database to test in modeling \n",
    "df1 = df[df['months_bw_fundings'] <150]\n",
    "df1 = df[df['months_bw_fundings'] >0]\n",
    "\n",
    "#data_path = 'Processd Data\\'\n",
    "df1.to_pickle('Data/Processed Data/companies.pkl')  #(\"%s/processed/pages.pkl\" % data_path)"
   ]
  },
  {
   "cell_type": "markdown",
   "metadata": {},
   "source": [
    "# Create a second dataset \n",
    "(Including the time between being founded and the first funding)\n",
    "\n",
    "So far, I have created a dataset that includes a column for the time between first funding and last funding. But I think the time between being founded and the first funding could be a more important factor contributing to the success of a  company. However, a lot of the companies in the data are missing the date that they were founded, so I will create a new dataset, including only the companies that have the time between being founded and first funding.\n",
    "\n",
    "The downside is that this will eliminates any records. So I will test both datasets to see which dataset is better in predicting success.\n"
   ]
  },
  {
   "cell_type": "code",
   "execution_count": 17,
   "metadata": {},
   "outputs": [
    {
     "data": {
      "text/plain": [
       "(10990, 7741)"
      ]
     },
     "execution_count": 17,
     "metadata": {},
     "output_type": "execute_result"
    }
   ],
   "source": [
    "# Create a new dataset and remove NaN's and invalid dates from founded_at date. \n",
    "df2= df.dropna(subset =['founded_at'])\n",
    "\n",
    "df2 = (df2[~ df2['founded_at'].isin(['1015-01-30', '1636-09-08', '2914-01-01', '1592-01-01'])]\n",
    "                          )\n",
    "len(df), len(df2)"
   ]
  },
  {
   "cell_type": "code",
   "execution_count": 18,
   "metadata": {},
   "outputs": [],
   "source": [
    "# Convert  to date type\n",
    "df2['founded_at'] = pd.to_datetime(df2['founded_at'])\n",
    "\n",
    "# Create a new column for year the companies were founded\n",
    "df2['year_founded'] = df2['founded_at'].dt.year"
   ]
  },
  {
   "cell_type": "code",
   "execution_count": 19,
   "metadata": {},
   "outputs": [],
   "source": [
    "# Create a new column for the time between when a company was founded and when they recived their first funding. \n",
    "df2['months_until_1st_fundings'] =( \n",
    "            (df2['first_funding_year'] - df2['year_founded'])*12 +\n",
    "             df2['first_funding_at'].dt.month - df2['founded_at'].dt.month)"
   ]
  },
  {
   "cell_type": "markdown",
   "metadata": {},
   "source": [
    "While it is not common, sometimes companies receive funding before they are founded, usually by the founders themselves. However, there could be wrong dates in the data as well, so I will exclude the records that have received funding more than 10 months before being sounded just to have a cleaner database. This will eliminate a small portion of records."
   ]
  },
  {
   "cell_type": "code",
   "execution_count": 20,
   "metadata": {},
   "outputs": [
    {
     "data": {
      "text/plain": [
       "7741"
      ]
     },
     "execution_count": 20,
     "metadata": {},
     "output_type": "execute_result"
    }
   ],
   "source": [
    "len(df2)"
   ]
  },
  {
   "cell_type": "code",
   "execution_count": 21,
   "metadata": {},
   "outputs": [],
   "source": [
    "df2= df2[(df2['status'].isin(['closed','acquired', 'ipo'])) | \n",
    "          ((df2['status'] == 'operating') & (df2['year_founded'] > 2005))]"
   ]
  },
  {
   "cell_type": "code",
   "execution_count": 23,
   "metadata": {},
   "outputs": [
    {
     "data": {
      "text/plain": [
       "(closed       2877\n",
       " acquired     2262\n",
       " operating     843\n",
       " ipo           337\n",
       " Name: status, dtype: int64,\n",
       " 6319)"
      ]
     },
     "execution_count": 23,
     "metadata": {},
     "output_type": "execute_result"
    }
   ],
   "source": [
    "df2['status'].value_counts(), len(df2)"
   ]
  },
  {
   "cell_type": "code",
   "execution_count": 24,
   "metadata": {},
   "outputs": [
    {
     "data": {
      "text/plain": [
       "Text(0, 0.5, '# Months to First Funding')"
      ]
     },
     "execution_count": 24,
     "metadata": {},
     "output_type": "execute_result"
    },
    {
     "data": {
      "image/png": "[encoded data removed]",
      "text/plain": [
       "<Figure size 720x144 with 1 Axes>"
      ]
     },
     "metadata": {
      "needs_background": "light"
     },
     "output_type": "display_data"
    }
   ],
   "source": [
    "# Look at outliers in df2 dataset since we have not looked at this feature yet.\n",
    "\n",
    "plt.figure(figsize=(10,2))\n",
    "\n",
    "\n",
    "plt.boxplot(df2['months_until_1st_fundings'], patch_artist= True, vert= False)\n",
    "plt.ylabel('# Months to First Funding')\n"
   ]
  },
  {
   "cell_type": "markdown",
   "metadata": {},
   "source": [
    "There are many outliers in the months_until_1st_fundings column, need to remove some of them."
   ]
  },
  {
   "cell_type": "code",
   "execution_count": 31,
   "metadata": {},
   "outputs": [
    {
     "data": {
      "text/plain": [
       "5968"
      ]
     },
     "execution_count": 31,
     "metadata": {},
     "output_type": "execute_result"
    }
   ],
   "source": [
    "df2 = df2[df2['months_until_1st_fundings'] <150]\n",
    "len(df2)"
   ]
  },
  {
   "cell_type": "code",
   "execution_count": 150,
   "metadata": {},
   "outputs": [
    {
     "data": {
      "text/plain": [
       "(closed       2794\n",
       " acquired     2148\n",
       " operating     843\n",
       " ipo           183\n",
       " Name: status, dtype: int64,\n",
       " 5968)"
      ]
     },
     "execution_count": 150,
     "metadata": {},
     "output_type": "execute_result"
    }
   ],
   "source": [
    "df2['status'].value_counts(), len(df2)"
   ]
  },
  {
   "cell_type": "markdown",
   "metadata": {},
   "source": [
    "# Let's look at the distribution of company categories, countries, and states"
   ]
  },
  {
   "cell_type": "code",
   "execution_count": 32,
   "metadata": {},
   "outputs": [
    {
     "data": {
      "image/png": "[encoded data removed]",
      "text/plain": [
       "<Figure size 720x360 with 1 Axes>"
      ]
     },
     "metadata": {
      "needs_background": "light"
     },
     "output_type": "display_data"
    }
   ],
   "source": [
    "# See the distribution of the countries\n",
    "countries = (df2.groupby('country_code')['name'].count()\n",
    "              .reset_index()\n",
    "              .sort_values('name',ascending = False)).head(20)\n",
    "countries.columns = ['country_code', 'count']\n",
    "\n",
    "# Plot the top countries by count\n",
    "plt.figure(figsize=(10,5))\n",
    "sns.set_style('whitegrid')\n",
    "\n",
    "sns.barplot(x= 'country_code', y = 'count', data = countries, color='lightcoral', edgecolor='.1')\n",
    "\n",
    "sns.despine()\n",
    "plt.xticks(rotation = 90)\n",
    "plt.xlabel('Country')\n",
    "plt.ylabel('Count');"
   ]
  },
  {
   "cell_type": "code",
   "execution_count": 33,
   "metadata": {},
   "outputs": [],
   "source": [
    "# Pickle the top countries to use in modeling\n",
    "top_countries = countries[countries['count']>80]\n",
    "top_countries_list = top_countries['country_code'].to_list()\n",
    "top_countries = pd.DataFrame(top_countries_list, columns= ['countries'])\n",
    "top_countries.to_pickle('Data/Processed Data/top_countries.pkl')"
   ]
  },
  {
   "cell_type": "code",
   "execution_count": 34,
   "metadata": {},
   "outputs": [
    {
     "data": {
      "image/png": "[encoded data removed]",
      "text/plain": [
       "<Figure size 720x360 with 1 Axes>"
      ]
     },
     "metadata": {},
     "output_type": "display_data"
    }
   ],
   "source": [
    "# See the distribution of the states\n",
    "states = (df2.groupby('state_code')['name'].count()\n",
    "              .reset_index()\n",
    "              .sort_values('name',ascending = False)).head(20)\n",
    "\n",
    "states.columns = ['state_code', 'count']\n",
    "\n",
    "# Plot the states by count\n",
    "plt.figure(figsize=(10,5))\n",
    "sns.set_style('whitegrid')\n",
    "\n",
    "sns.barplot(x= 'state_code', y = 'count', data = states, color='lightcoral', edgecolor='.1')\n",
    "\n",
    "sns.despine()\n",
    "plt.xticks(rotation = 90)\n",
    "plt.xlabel('State')\n",
    "plt.ylabel('Count');"
   ]
  },
  {
   "cell_type": "code",
   "execution_count": 157,
   "metadata": {},
   "outputs": [
    {
     "data": {
      "text/html": [
       "<div>\n",
       "<style scoped>\n",
       "    .dataframe tbody tr th:only-of-type {\n",
       "        vertical-align: middle;\n",
       "    }\n",
       "\n",
       "    .dataframe tbody tr th {\n",
       "        vertical-align: top;\n",
       "    }\n",
       "\n",
       "    .dataframe thead th {\n",
       "        text-align: right;\n",
       "    }\n",
       "</style>\n",
       "<table border=\"1\" class=\"dataframe\">\n",
       "  <thead>\n",
       "    <tr style=\"text-align: right;\">\n",
       "      <th></th>\n",
       "      <th>state_code</th>\n",
       "      <th>region</th>\n",
       "      <th>city</th>\n",
       "    </tr>\n",
       "  </thead>\n",
       "  <tbody>\n",
       "    <tr>\n",
       "      <th>59965</th>\n",
       "      <td>H9</td>\n",
       "      <td>London</td>\n",
       "      <td>London</td>\n",
       "    </tr>\n",
       "    <tr>\n",
       "      <th>3127</th>\n",
       "      <td>H9</td>\n",
       "      <td>London</td>\n",
       "      <td>London</td>\n",
       "    </tr>\n",
       "  </tbody>\n",
       "</table>\n",
       "</div>"
      ],
      "text/plain": [
       "      state_code  region    city\n",
       "59965         H9  London  London\n",
       "3127          H9  London  London"
      ]
     },
     "execution_count": 157,
     "metadata": {},
     "output_type": "execute_result"
    }
   ],
   "source": [
    "# There are some numbers and unknown names in the data, let's take a closer look and see if we can tell what they are\n",
    "temp_states = pd.read_csv('Data/Raw Data/companies.csv', na_values='-' )\n",
    "temp_states[temp_states['state_code'].isin(['H9'])][['state_code','region', 'city']].sample(2) "
   ]
  },
  {
   "cell_type": "markdown",
   "metadata": {},
   "source": [
    "A bit of investigation showed that 'H9' means London. The other numbers included in the top states in the above graph mean multiple international cities. However I will only focous on the top U.S. states in the modeling."
   ]
  },
  {
   "cell_type": "code",
   "execution_count": 158,
   "metadata": {},
   "outputs": [],
   "source": [
    "# Pickle the top U.S. states to use in modeling.\n",
    "top_USA_states = states[states['count']>155]\n",
    "top_USA_states_list = top_USA_states['state_code'].to_list()\n",
    "top_USA_states = pd.DataFrame(top_USA_states_list, columns= ['states'])\n",
    "top_USA_states.to_pickle('Data/Processed Data/top_USA_states.pkl')"
   ]
  },
  {
   "cell_type": "code",
   "execution_count": 104,
   "metadata": {},
   "outputs": [
    {
     "data": {
      "image/png": "[encoded data removed]",
      "text/plain": [
       "<Figure size 720x432 with 1 Axes>"
      ]
     },
     "metadata": {},
     "output_type": "display_data"
    }
   ],
   "source": [
    "# See the distribution of categories. \n",
    "categories = (df2.groupby('category_list')['name'].count()\n",
    "              .reset_index()\n",
    "              .sort_values('name',ascending = False)).head(20)\n",
    "\n",
    "categories.columns = ['category_list', 'count']\n",
    "\n",
    "# Plot the top categories by count.\n",
    "plt.figure(figsize=(10,6))\n",
    "sns.set_style('whitegrid')\n",
    "\n",
    "sns.barplot(x= 'category_list', y = 'count', data = categories, color='tomato', edgecolor='.1')\n",
    "\n",
    "sns.despine()\n",
    "plt.xticks(rotation = 90)\n",
    "plt.xlabel('Category')\n",
    "plt.ylabel('Count');"
   ]
  },
  {
   "cell_type": "code",
   "execution_count": 160,
   "metadata": {},
   "outputs": [],
   "source": [
    "# Pickle the top categories to use in modeling.\n",
    "top_categories = categories[categories['count']>45]\n",
    "top_categories_list = top_categories['category_list'].to_list()\n",
    "top_categories = pd.DataFrame(top_categories_list, columns=['categories'])\n",
    "top_categories.to_pickle('Data/Processed Data/top_categories.pkl')"
   ]
  },
  {
   "cell_type": "code",
   "execution_count": 161,
   "metadata": {},
   "outputs": [
    {
     "data": {
      "text/html": [
       "<div>\n",
       "<style scoped>\n",
       "    .dataframe tbody tr th:only-of-type {\n",
       "        vertical-align: middle;\n",
       "    }\n",
       "\n",
       "    .dataframe tbody tr th {\n",
       "        vertical-align: top;\n",
       "    }\n",
       "\n",
       "    .dataframe thead th {\n",
       "        text-align: right;\n",
       "    }\n",
       "</style>\n",
       "<table border=\"1\" class=\"dataframe\">\n",
       "  <thead>\n",
       "    <tr style=\"text-align: right;\">\n",
       "      <th></th>\n",
       "      <th>categories</th>\n",
       "    </tr>\n",
       "  </thead>\n",
       "  <tbody>\n",
       "    <tr>\n",
       "      <th>0</th>\n",
       "      <td>Software</td>\n",
       "    </tr>\n",
       "    <tr>\n",
       "      <th>1</th>\n",
       "      <td>Curated Web</td>\n",
       "    </tr>\n",
       "    <tr>\n",
       "      <th>2</th>\n",
       "      <td>Biotechnology</td>\n",
       "    </tr>\n",
       "    <tr>\n",
       "      <th>3</th>\n",
       "      <td>Mobile</td>\n",
       "    </tr>\n",
       "    <tr>\n",
       "      <th>4</th>\n",
       "      <td>Enterprise Software</td>\n",
       "    </tr>\n",
       "    <tr>\n",
       "      <th>5</th>\n",
       "      <td>Advertising</td>\n",
       "    </tr>\n",
       "    <tr>\n",
       "      <th>6</th>\n",
       "      <td>Games</td>\n",
       "    </tr>\n",
       "    <tr>\n",
       "      <th>7</th>\n",
       "      <td>E-Commerce</td>\n",
       "    </tr>\n",
       "    <tr>\n",
       "      <th>8</th>\n",
       "      <td>Hardware + Software</td>\n",
       "    </tr>\n",
       "    <tr>\n",
       "      <th>9</th>\n",
       "      <td>Social Media</td>\n",
       "    </tr>\n",
       "    <tr>\n",
       "      <th>10</th>\n",
       "      <td>Clean Technology</td>\n",
       "    </tr>\n",
       "    <tr>\n",
       "      <th>11</th>\n",
       "      <td>Security</td>\n",
       "    </tr>\n",
       "  </tbody>\n",
       "</table>\n",
       "</div>"
      ],
      "text/plain": [
       "             categories\n",
       "0              Software\n",
       "1           Curated Web\n",
       "2         Biotechnology\n",
       "3                Mobile\n",
       "4   Enterprise Software\n",
       "5           Advertising\n",
       "6                 Games\n",
       "7            E-Commerce\n",
       "8   Hardware + Software\n",
       "9          Social Media\n",
       "10     Clean Technology\n",
       "11             Security"
      ]
     },
     "execution_count": 161,
     "metadata": {},
     "output_type": "execute_result"
    }
   ],
   "source": [
    "top_categories"
   ]
  },
  {
   "cell_type": "code",
   "execution_count": 35,
   "metadata": {},
   "outputs": [
    {
     "data": {
      "text/html": [
       "<div>\n",
       "<style scoped>\n",
       "    .dataframe tbody tr th:only-of-type {\n",
       "        vertical-align: middle;\n",
       "    }\n",
       "\n",
       "    .dataframe tbody tr th {\n",
       "        vertical-align: top;\n",
       "    }\n",
       "\n",
       "    .dataframe thead th {\n",
       "        text-align: right;\n",
       "    }\n",
       "</style>\n",
       "<table border=\"1\" class=\"dataframe\">\n",
       "  <thead>\n",
       "    <tr style=\"text-align: right;\">\n",
       "      <th></th>\n",
       "      <th>funding_total_usd</th>\n",
       "      <th>funding_rounds</th>\n",
       "      <th>first_funding_year</th>\n",
       "      <th>last_funding_year</th>\n",
       "      <th>months_bw_fundings</th>\n",
       "      <th>succeeded</th>\n",
       "      <th>year_founded</th>\n",
       "      <th>months_until_1st_fundings</th>\n",
       "    </tr>\n",
       "  </thead>\n",
       "  <tbody>\n",
       "    <tr>\n",
       "      <th>count</th>\n",
       "      <td>5.968000e+03</td>\n",
       "      <td>5968.000000</td>\n",
       "      <td>5968.000000</td>\n",
       "      <td>5968.000000</td>\n",
       "      <td>5968.000000</td>\n",
       "      <td>5968.000000</td>\n",
       "      <td>5968.000000</td>\n",
       "      <td>5968.000000</td>\n",
       "    </tr>\n",
       "    <tr>\n",
       "      <th>mean</th>\n",
       "      <td>3.243771e+06</td>\n",
       "      <td>1.603385</td>\n",
       "      <td>2009.323056</td>\n",
       "      <td>2010.091823</td>\n",
       "      <td>9.332775</td>\n",
       "      <td>0.390583</td>\n",
       "      <td>2007.788371</td>\n",
       "      <td>20.466823</td>\n",
       "    </tr>\n",
       "    <tr>\n",
       "      <th>std</th>\n",
       "      <td>3.877778e+06</td>\n",
       "      <td>0.936049</td>\n",
       "      <td>3.442144</td>\n",
       "      <td>3.335587</td>\n",
       "      <td>17.485991</td>\n",
       "      <td>0.487922</td>\n",
       "      <td>4.488178</td>\n",
       "      <td>32.975428</td>\n",
       "    </tr>\n",
       "    <tr>\n",
       "      <th>min</th>\n",
       "      <td>6.000000e+00</td>\n",
       "      <td>1.000000</td>\n",
       "      <td>1971.000000</td>\n",
       "      <td>1971.000000</td>\n",
       "      <td>0.000000</td>\n",
       "      <td>0.000000</td>\n",
       "      <td>1968.000000</td>\n",
       "      <td>-313.000000</td>\n",
       "    </tr>\n",
       "    <tr>\n",
       "      <th>25%</th>\n",
       "      <td>2.777050e+05</td>\n",
       "      <td>1.000000</td>\n",
       "      <td>2007.000000</td>\n",
       "      <td>2008.000000</td>\n",
       "      <td>0.000000</td>\n",
       "      <td>0.000000</td>\n",
       "      <td>2006.000000</td>\n",
       "      <td>1.000000</td>\n",
       "    </tr>\n",
       "    <tr>\n",
       "      <th>50%</th>\n",
       "      <td>1.430216e+06</td>\n",
       "      <td>1.000000</td>\n",
       "      <td>2009.000000</td>\n",
       "      <td>2010.000000</td>\n",
       "      <td>0.000000</td>\n",
       "      <td>0.000000</td>\n",
       "      <td>2008.000000</td>\n",
       "      <td>10.000000</td>\n",
       "    </tr>\n",
       "    <tr>\n",
       "      <th>75%</th>\n",
       "      <td>5.000000e+06</td>\n",
       "      <td>2.000000</td>\n",
       "      <td>2012.000000</td>\n",
       "      <td>2013.000000</td>\n",
       "      <td>13.000000</td>\n",
       "      <td>1.000000</td>\n",
       "      <td>2011.000000</td>\n",
       "      <td>28.000000</td>\n",
       "    </tr>\n",
       "    <tr>\n",
       "      <th>max</th>\n",
       "      <td>1.495625e+07</td>\n",
       "      <td>7.000000</td>\n",
       "      <td>2015.000000</td>\n",
       "      <td>2015.000000</td>\n",
       "      <td>182.000000</td>\n",
       "      <td>1.000000</td>\n",
       "      <td>2041.000000</td>\n",
       "      <td>149.000000</td>\n",
       "    </tr>\n",
       "  </tbody>\n",
       "</table>\n",
       "</div>"
      ],
      "text/plain": [
       "       funding_total_usd  funding_rounds  first_funding_year  \\\n",
       "count       5.968000e+03     5968.000000         5968.000000   \n",
       "mean        3.243771e+06        1.603385         2009.323056   \n",
       "std         3.877778e+06        0.936049            3.442144   \n",
       "min         6.000000e+00        1.000000         1971.000000   \n",
       "25%         2.777050e+05        1.000000         2007.000000   \n",
       "50%         1.430216e+06        1.000000         2009.000000   \n",
       "75%         5.000000e+06        2.000000         2012.000000   \n",
       "max         1.495625e+07        7.000000         2015.000000   \n",
       "\n",
       "       last_funding_year  months_bw_fundings    succeeded  year_founded  \\\n",
       "count        5968.000000         5968.000000  5968.000000   5968.000000   \n",
       "mean         2010.091823            9.332775     0.390583   2007.788371   \n",
       "std             3.335587           17.485991     0.487922      4.488178   \n",
       "min          1971.000000            0.000000     0.000000   1968.000000   \n",
       "25%          2008.000000            0.000000     0.000000   2006.000000   \n",
       "50%          2010.000000            0.000000     0.000000   2008.000000   \n",
       "75%          2013.000000           13.000000     1.000000   2011.000000   \n",
       "max          2015.000000          182.000000     1.000000   2041.000000   \n",
       "\n",
       "       months_until_1st_fundings  \n",
       "count                5968.000000  \n",
       "mean                   20.466823  \n",
       "std                    32.975428  \n",
       "min                  -313.000000  \n",
       "25%                     1.000000  \n",
       "50%                    10.000000  \n",
       "75%                    28.000000  \n",
       "max                   149.000000  "
      ]
     },
     "execution_count": 35,
     "metadata": {},
     "output_type": "execute_result"
    }
   ],
   "source": [
    "df2.describe()"
   ]
  },
  {
   "cell_type": "code",
   "execution_count": 36,
   "metadata": {},
   "outputs": [],
   "source": [
    "# Remove the columns that are not needed for modeling and pickle the data.\n",
    "df2.drop(['permalink', 'homepage_url', 'region', 'city'], axis = 1, inplace= True)\n",
    "df2.to_pickle('Data/Processed Data/comps_with_founded_year.pkl')"
   ]
  }
 ],
 "metadata": {
  "kernelspec": {
   "display_name": "Python 3",
   "language": "python",
   "name": "python3"
  },
  "language_info": {
   "codemirror_mode": {
    "name": "ipython",
    "version": 3
   },
   "file_extension": ".py",
   "mimetype": "text/x-python",
   "name": "python",
   "nbconvert_exporter": "python",
   "pygments_lexer": "ipython3",
   "version": "3.8.3"
  }
 },
 "nbformat": 4,
 "nbformat_minor": 2
}
